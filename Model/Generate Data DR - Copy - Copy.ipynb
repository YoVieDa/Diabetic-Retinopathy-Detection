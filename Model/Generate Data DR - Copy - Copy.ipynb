{
 "cells": [
  {
   "cell_type": "markdown",
   "metadata": {},
   "source": [
    "# GENERATE DATA FOR DR"
   ]
  },
  {
   "cell_type": "code",
   "execution_count": 4,
   "metadata": {},
   "outputs": [],
   "source": [
    "import matplotlib.pyplot as plt\n",
    "import numpy as np\n",
    "import tensorflow as tf\n",
    "import cv2\n",
    "import glob, os\n",
    "\n",
    "from keras.preprocessing.image import ImageDataGenerator\n",
    "from keras.layers import Input, Dense, Conv2D, MaxPooling2D,Flatten, Dropout, BatchNormalization, Activation, Add, GlobalAveragePooling2D\n",
    "from keras.models import Model\n",
    "from keras.activations import relu\n",
    "from keras.backend import softmax, sigmoid\n",
    "from keras.optimizers import Adam\n",
    "from keras.regularizers import l1, l2, l1_l2\n",
    "from keras.callbacks import EarlyStopping\n",
    "from keras.models import load_model\n",
    "\n",
    "from sklearn.metrics import confusion_matrix, ConfusionMatrixDisplay, classification_report\n",
    "from scipy.stats import f_oneway\n",
    "\n",
    "from PIL import Image, ImageOps\n",
    "import PIL"
   ]
  },
  {
   "cell_type": "markdown",
   "metadata": {},
   "source": [
    "# INI BUAT YANG NO_DR dari data 3"
   ]
  },
  {
   "cell_type": "code",
   "execution_count": 54,
   "metadata": {},
   "outputs": [],
   "source": [
    "def rs(image, directory, namefile_len):\n",
    "    img = Image.open(image)\n",
    "    w = int(cv2.imread(image).shape[1]/4)\n",
    "    h = int(cv2.imread(image).shape[0]/4)\n",
    "    data = img.resize((w,h))\n",
    "    os.chdir(directory)\n",
    "    data.save(image[namefile_len:])"
   ]
  },
  {
   "cell_type": "code",
   "execution_count": 38,
   "metadata": {},
   "outputs": [
    {
     "name": "stdout",
     "output_type": "stream",
     "text": [
      "20_right.jpeg\n"
     ]
    }
   ],
   "source": [
    "dir = 'D:/data3/data/train/No DR/01/20_right.jpeg'\n",
    "print(dir[29:])"
   ]
  },
  {
   "cell_type": "code",
   "execution_count": 56,
   "metadata": {},
   "outputs": [
    {
     "name": "stdout",
     "output_type": "stream",
     "text": [
      "5475_left.png\t2190_right.png\t2222_right.png\t2236_left.png\t2243_right.png\t\n",
      "2248_left.png\t2273_left.png\t2288_left.png\t2296_left.png\t2323_right.png\t\n",
      "2350_left.png\t2350_right.png\t2401_left.png\t2401_right.png\t2413_left.png\t\n",
      "2433_left.png\t2441_right.png\t2450_right.png\t2462_left.png\t2500_left.png\t\n",
      "2530_right.png\t2534_left.png\t2534_right.png\t2549_left.png\t2549_right.png\t\n",
      "2582_left.png\t2582_right.png\t2589_left.png\t2630_left.png\t2635_left.png\t\n",
      "2678_left.png\t2726_left.png\t2726_right.png\t2754_left.png\t2778_right.png\t\n",
      "2780_left.png\t2780_right.png\t2794_right.png\t2807_left.png\t2886_left.png\t\n",
      "2895_left.png\t2895_right.png\t2908_right.png\t2911_right.png\t2923_left.png\t\n",
      "2923_right.png\t2964_right.png\t2990_left.png\t2996_left.png\t3000_left.png\t\n",
      "3020_left.png\t3023_left.png\t3023_right.png\t3053_left.png\t3053_right.png\t\n",
      "3123_right.png\t3146_left.png\t3149_right.png\t3174_left.png\t3174_right.png\t\n",
      "3228_left.png\t3319_left.png\t3321_left.png\t3332_right.png\t3335_right.png\t\n",
      "3378_left.png\t3401_right.png\t3449_right.png\t3472_left.png\t3509_left.png\t\n",
      "3509_right.png\t3567_left.png\t3567_right.png\t3653_right.png\t3655_right.png\t\n",
      "3657_right.png\t3660_right.png\t3662_left.png\t3662_right.png\t3758_right.png\t\n",
      "3767_left.png\t3786_right.png\t3812_right.png\t3823_left.png\t3823_right.png\t\n",
      "3866_right.png\t3889_left.png\t3889_right.png\t3897_right.png\t3994_left.png\t\n",
      "4003_left.png\t4003_right.png\t4041_left.png\t4041_right.png\t4058_left.png\t\n",
      "4058_right.png\t4085_right.png\t4127_right.png\t4184_left.png\t4202_left.png\t\n",
      "4202_right.png\t4203_left.png\t4257_right.png\t4266_right.png\t4285_right.png\t\n",
      "4323_left.png\t4323_right.png\t4324_right.png\t4390_left.png\t4471_right.png\t\n",
      "4490_left.png\t4508_left.png\t4513_right.png\t4538_left.png\t4538_right.png\t\n",
      "4581_right.png\t4595_left.png\t4615_left.png\t4615_right.png\t4626_left.png\t\n",
      "4632_right.png\t4659_left.png\t4659_right.png\t4672_right.png\t4694_right.png\t\n",
      "4716_left.png\t4724_right.png\t4732_left.png\t4732_right.png\t4734_right.png\t\n",
      "4735_left.png\t4735_right.png\t4771_left.png\t4771_right.png\t4784_right.png\t\n",
      "4799_right.png\t4800_left.png\t4810_right.png\t4811_right.png\t4818_left.png\t\n",
      "4827_left.png\t4843_left.png\t4843_right.png\t4847_left.png\t4850_left.png\t\n",
      "4850_right.png\t4857_left.png\t4861_left.png\t4892_left.png\t"
     ]
    }
   ],
   "source": [
    "counter = 0\n",
    "for image in glob.iglob(f'D:/data3/data/train/No DR/02/*'):\n",
    "    rs(image, r'D:/data3/data/data3/train/No DR', 29)\n",
    "    counter+=1\n",
    "    print(image[29:], end='\\t')\n",
    "    if counter%5 == 0:\n",
    "        print()\n",
    "\n",
    "print('\\nselesai - ', counter)"
   ]
  }
 ],
 "metadata": {
  "kernelspec": {
   "display_name": "Python 3",
   "language": "python",
   "name": "python3"
  },
  "language_info": {
   "codemirror_mode": {
    "name": "ipython",
    "version": 3
   },
   "file_extension": ".py",
   "mimetype": "text/x-python",
   "name": "python",
   "nbconvert_exporter": "python",
   "pygments_lexer": "ipython3",
   "version": "3.10.5"
  },
  "orig_nbformat": 4
 },
 "nbformat": 4,
 "nbformat_minor": 2
}
